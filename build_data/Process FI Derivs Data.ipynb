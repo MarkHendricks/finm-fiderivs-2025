{
 "cells": [
  {
   "cell_type": "markdown",
   "id": "367acf1f",
   "metadata": {},
   "source": [
    "# Build Data - Other Problems"
   ]
  },
  {
   "cell_type": "code",
   "execution_count": 1,
   "id": "0267c3b2",
   "metadata": {},
   "outputs": [],
   "source": [
    "import numpy as np\n",
    "import pandas as pd\n",
    "\n",
    "from datetime import date\n",
    "from datetime import datetime\n",
    "\n",
    "import sys\n",
    "sys.path.insert(0, '../cmds')\n",
    "from ficcvol import *\n",
    "from binomial import *\n",
    "from ratecurves import *\n",
    "from treasury_cmds import compound_rate\n",
    "from volskew import *\n",
    "\n",
    "import datetime"
   ]
  },
  {
   "cell_type": "code",
   "execution_count": 2,
   "id": "fa1fe291",
   "metadata": {},
   "outputs": [],
   "source": [
    "DATE = '2025-03-10'"
   ]
  },
  {
   "cell_type": "code",
   "execution_count": 3,
   "id": "0f32bdc2",
   "metadata": {},
   "outputs": [],
   "source": [
    "SAVEDATA = True\n",
    "FILEOUT = f'../data/fiderivs_{DATE}.xlsx'"
   ]
  },
  {
   "cell_type": "markdown",
   "id": "6df80aa6",
   "metadata": {},
   "source": [
    "# Curves"
   ]
  },
  {
   "cell_type": "code",
   "execution_count": 4,
   "id": "d3994487",
   "metadata": {},
   "outputs": [],
   "source": [
    "freqcurve = 4\n",
    "ROUND = 4\n",
    "curves = pd.read_excel(f'../data/cap_curves_{DATE}.xlsx', sheet_name=f'rate curves {DATE}').set_index('tenor')"
   ]
  },
  {
   "cell_type": "markdown",
   "id": "98f99065",
   "metadata": {},
   "source": [
    "### Limit maturity"
   ]
  },
  {
   "cell_type": "code",
   "execution_count": 5,
   "id": "0451f9aa",
   "metadata": {},
   "outputs": [],
   "source": [
    "LIMIT = 5\n",
    "curves = curves.loc[:LIMIT]"
   ]
  },
  {
   "cell_type": "markdown",
   "id": "d6cd4b01",
   "metadata": {},
   "source": [
    "# BDT"
   ]
  },
  {
   "cell_type": "code",
   "execution_count": 6,
   "id": "5fc3e268",
   "metadata": {},
   "outputs": [],
   "source": [
    "sigmas = curves['fwd vols']\n",
    "sigmas.iloc[0] = sigmas.iloc[1]\n",
    "sigmas.index = sigmas.index.to_numpy().round(6)"
   ]
  },
  {
   "cell_type": "markdown",
   "id": "61672df1",
   "metadata": {},
   "source": [
    "### Simple BDT (constant vol)"
   ]
  },
  {
   "cell_type": "code",
   "execution_count": 7,
   "id": "318a5edc",
   "metadata": {},
   "outputs": [],
   "source": [
    "# theta, ratetree = estimate_theta(sigmas,100*curves.loc[:,'discounts'])\n",
    "# format_bintree(ratetree,style='{:.2%}')"
   ]
  },
  {
   "cell_type": "markdown",
   "id": "392f8c5b",
   "metadata": {},
   "source": [
    "### New Clean Code"
   ]
  },
  {
   "cell_type": "markdown",
   "id": "9eeec15f",
   "metadata": {},
   "source": [
    "### Non-uniform grid"
   ]
  },
  {
   "cell_type": "code",
   "execution_count": 8,
   "id": "84d2912c",
   "metadata": {},
   "outputs": [],
   "source": [
    "# sys.path.insert(0, '../dev')\n",
    "# from bdt_nonuni import *\n",
    "\n",
    "# T = 5\n",
    "# state, ratetree = estimate_topnode_nonuniform(curves.loc[:T,'fwd vols'],curves.loc[:T,'discounts'],round_digits=ROUND)"
   ]
  },
  {
   "cell_type": "markdown",
   "id": "aa959192",
   "metadata": {},
   "source": [
    "### Working Code"
   ]
  },
  {
   "cell_type": "code",
   "execution_count": 9,
   "id": "5411c7c7",
   "metadata": {},
   "outputs": [
    {
     "name": "stdout",
     "output_type": "stream",
     "text": [
      "0.25\n",
      "0.5\n",
      "0.75\n",
      "1.0\n",
      "1.25\n",
      "1.5\n",
      "1.75\n",
      "2.0\n",
      "2.25\n",
      "2.5\n",
      "2.75\n",
      "3.0\n",
      "3.25\n",
      "3.5\n",
      "3.75\n",
      "4.0\n",
      "4.25\n",
      "4.5\n",
      "4.75\n"
     ]
    }
   ],
   "source": [
    "T = 5\n",
    "dt = curves.index[0]\n",
    "state, ratetree = estimate_topnode(curves.loc[:T+dt,'fwd vols'],curves.loc[:T+dt,'discounts'],round_digits=ROUND)\n",
    "#format_bintree(ratetree,style='{:.2%}')"
   ]
  },
  {
   "cell_type": "code",
   "execution_count": 10,
   "id": "3373e5be",
   "metadata": {},
   "outputs": [],
   "source": [
    "ratetree_alt = ratetree.copy()\n",
    "ratetree.columns = np.round(ratetree.columns,2)\n",
    "\n",
    "curves_alt = curves.copy()\n",
    "curves.index = np.round(curves.index,2)"
   ]
  },
  {
   "cell_type": "markdown",
   "id": "41e0f8ad",
   "metadata": {},
   "source": [
    "### Extract Fwd Vol from Flat Vol via Tree?"
   ]
  },
  {
   "cell_type": "code",
   "execution_count": 11,
   "id": "c1201327",
   "metadata": {},
   "outputs": [],
   "source": [
    "def flatvol_to_capfloor_prices(discounts,forward_rates,swaprates,flatvols,Tmax,dt=.25,N=100):\n",
    "    \n",
    "    maturities = np.arange(dt,Tmax+dt,dt)\n",
    "    capfloor = pd.DataFrame(index=maturities, columns=['cap','floor'])\n",
    "\n",
    "    for T in maturities:\n",
    "\n",
    "        strike = swaprates.loc[T]\n",
    "        \n",
    "        cflets = pd.DataFrame(index=capfloor.loc[:T].index.to_numpy(),columns=['caplet','floorlet'])\n",
    "\n",
    "        for i,Tval in enumerate(cflets.index):\n",
    "            if i==0:\n",
    "                cflets.loc[Tval,:] = 0\n",
    "            else:\n",
    "                fwdrate = forward_rates.loc[Tval]\n",
    "                cflets.loc[Tval,'caplet'] = N * (1/dt) * blacks_formula(Tval-1/dt,flatvols.loc[Tval],strike,fwdrate,discounts.loc[Tval],isCall=True)\n",
    "                cflets.loc[Tval,'floorlet'] = N * (1/dt) * blacks_formula(Tval-1/dt,flatvols.loc[Tval],strike,fwdrate,discounts.loc[Tval],isCall=False)\n",
    "\n",
    "\n",
    "        capfloor.loc[T,'cap'] = cflets['caplet'].sum()\n",
    "        capfloor.loc[T,'floor'] = cflets['floorlet'].sum()\n",
    "\n",
    "    return capfloor"
   ]
  },
  {
   "cell_type": "code",
   "execution_count": 12,
   "id": "224f9d7a",
   "metadata": {},
   "outputs": [],
   "source": [
    "# flatvols = curves['flat vols']\n",
    "# discounts = curves['discounts']\n",
    "# forward_rates = curves['forwards']\n",
    "# swaprates = curves['swap rates']\n",
    "\n",
    "# capfloor_px = flatvol_to_capfloor_prices(discounts,forward_rates,swaprates,flatvols,Tmax=T)\n",
    "# cap_prices = capfloor_px['cap']"
   ]
  },
  {
   "cell_type": "code",
   "execution_count": 13,
   "id": "7ed98fc3",
   "metadata": {},
   "outputs": [],
   "source": [
    "# maturities = np.arange(dt,T+dt,dt)\n",
    "# caps = pd.DataFrame(index=maturities, columns=['price'])\n",
    "# for t in maturities:\n",
    "#     caps.loc[t,'price'] = cap_vol_to_price(curves.loc[t,'flat vols'], curves.loc[t,'swap rates'], curves.loc[:t,'forwards'], curves.loc[:t,'discounts'], dt=.25, notional=100)"
   ]
  },
  {
   "cell_type": "code",
   "execution_count": 14,
   "id": "bcf7591e",
   "metadata": {},
   "outputs": [],
   "source": [
    "# state, rtree = estimate_topnode_vol(curves.loc[:T+dt,'discounts'],caps['price'],curves.loc[:T+dt,'swap rates'])\n",
    "# format_bintree(rtree,style='{:.2%}')"
   ]
  },
  {
   "cell_type": "markdown",
   "id": "77f76211",
   "metadata": {},
   "source": [
    "***"
   ]
  },
  {
   "cell_type": "markdown",
   "id": "06579356",
   "metadata": {},
   "source": [
    "# Vol Skew\n",
    "\n",
    "These are input manually from Bloomberg's `VCUB` dashboard."
   ]
  },
  {
   "cell_type": "code",
   "execution_count": 15,
   "id": "add38958",
   "metadata": {},
   "outputs": [
    {
     "data": {
      "text/html": [
       "<div>\n",
       "<style scoped>\n",
       "    .dataframe tbody tr th:only-of-type {\n",
       "        vertical-align: middle;\n",
       "    }\n",
       "\n",
       "    .dataframe tbody tr th {\n",
       "        vertical-align: top;\n",
       "    }\n",
       "\n",
       "    .dataframe thead th {\n",
       "        text-align: right;\n",
       "    }\n",
       "</style>\n",
       "<table border=\"1\" class=\"dataframe\">\n",
       "  <thead>\n",
       "    <tr style=\"text-align: right;\">\n",
       "      <th></th>\n",
       "      <th>reference</th>\n",
       "      <th>instrument</th>\n",
       "      <th>model</th>\n",
       "      <th>date</th>\n",
       "      <th>expiration</th>\n",
       "      <th>tenor</th>\n",
       "      <th>-200</th>\n",
       "      <th>-100</th>\n",
       "      <th>-50</th>\n",
       "      <th>-25</th>\n",
       "      <th>0</th>\n",
       "      <th>25</th>\n",
       "      <th>50</th>\n",
       "      <th>100</th>\n",
       "      <th>200</th>\n",
       "    </tr>\n",
       "  </thead>\n",
       "  <tbody>\n",
       "    <tr>\n",
       "      <th>0</th>\n",
       "      <td>SOFR</td>\n",
       "      <td>swaption</td>\n",
       "      <td>black</td>\n",
       "      <td>2025-03-10</td>\n",
       "      <td>1</td>\n",
       "      <td>3</td>\n",
       "      <td>51.89</td>\n",
       "      <td>37.53</td>\n",
       "      <td>33.24</td>\n",
       "      <td>31.65</td>\n",
       "      <td>30.41</td>\n",
       "      <td>29.48</td>\n",
       "      <td>28.84</td>\n",
       "      <td>28.25</td>\n",
       "      <td>28.64</td>\n",
       "    </tr>\n",
       "  </tbody>\n",
       "</table>\n",
       "</div>"
      ],
      "text/plain": [
       "  reference instrument  model       date  expiration  tenor   -200   -100  \\\n",
       "0      SOFR   swaption  black 2025-03-10           1      3  51.89  37.53   \n",
       "\n",
       "     -50    -25      0     25     50    100    200  \n",
       "0  33.24  31.65  30.41  29.48  28.84  28.25  28.64  "
      ]
     },
     "execution_count": 15,
     "metadata": {},
     "output_type": "execute_result"
    }
   ],
   "source": [
    "voldata = pd.read_excel(f'../data/swaption_vol_data_{DATE}.xlsx',sheet_name='select')\n",
    "voldata"
   ]
  },
  {
   "cell_type": "code",
   "execution_count": 16,
   "id": "6e29dc47",
   "metadata": {},
   "outputs": [],
   "source": [
    "IDVOLSKEW = 0\n",
    "voldata = voldata.loc[[IDVOLSKEW],:]"
   ]
  },
  {
   "cell_type": "markdown",
   "id": "e14d85c1",
   "metadata": {},
   "source": [
    "# SABR Fit"
   ]
  },
  {
   "cell_type": "code",
   "execution_count": 17,
   "id": "054efab4",
   "metadata": {},
   "outputs": [],
   "source": [
    "SWAP_TYPE = 'SOFR'\n",
    "QUOTE_STYLE = 'black'\n",
    "RELATIVE_STRIKE = 0\n",
    "\n",
    "expry = 1\n",
    "tenor = 3\n",
    "# expry_round = 1\n",
    "# tenor_round = 4\n",
    "\n",
    "# index_array = ratetree.columns.to_numpy()\n",
    "\n",
    "# closest_index = index_array[np.abs(index_array - tenor_round).argmin()]\n",
    "# tenor = closest_index\n",
    "\n",
    "# closest_index = index_array[np.abs(index_array - expry_round).argmin()]\n",
    "# expry = closest_index\n",
    "\n",
    "freqswap = 4\n",
    "\n",
    "Topt = expry\n",
    "Tswap = Topt+tenor\n",
    "fwdswap = calc_fwdswaprate(curves['discounts'], Topt, Tswap, freqswap=freqswap)"
   ]
  },
  {
   "cell_type": "code",
   "execution_count": 18,
   "id": "33c4ceb4",
   "metadata": {},
   "outputs": [],
   "source": [
    "doSLIM = False\n",
    "BETA = 0.25\n",
    "F = fwdswap"
   ]
  },
  {
   "cell_type": "code",
   "execution_count": 19,
   "id": "d50928a1",
   "metadata": {},
   "outputs": [
    {
     "name": "stderr",
     "output_type": "stream",
     "text": [
      "/var/folders/zx/3v_qt0957xzg3nqtnkv007d00000gn/T/ipykernel_6982/716694739.py:1: FutureWarning: The behavior of 'isin' with dtype=datetime64[ns] and castable values (e.g. strings) is deprecated. In a future version, these will not be considered matching by isin. Explicitly cast to the appropriate dtype before calling isin instead.\n",
      "  volquote = voldata.query(f'model==\"{QUOTE_STYLE}\"').query(f'reference==\"{SWAP_TYPE}\"').query(f'date==\"{DATE}\"')#.query(f'expiration==\"{expry}\"').query(f'tenor==\"{tenor}\"')\n"
     ]
    }
   ],
   "source": [
    "volquote = voldata.query(f'model==\"{QUOTE_STYLE}\"').query(f'reference==\"{SWAP_TYPE}\"').query(f'date==\"{DATE}\"')#.query(f'expiration==\"{expry}\"').query(f'tenor==\"{tenor}\"')\n",
    "idx = (volquote['expiration']==expry) & (volquote['tenor']==tenor)\n",
    "volquote = volquote.loc[idx]\n",
    "volquote.index = ['implied vol']\n",
    "\n",
    "strikerange = np.array([col for col in volquote.columns if isinstance(col, int)])\n",
    "\n",
    "vols = volquote[strikerange]\n",
    "vols /= 100\n",
    "strikes = fwdswap + strikerange/100/100\n",
    "idstrike = np.where(strikerange==RELATIVE_STRIKE)[0][0]\n",
    "\n",
    "idstrikeATM = np.where(strikerange==0)[0][0]\n",
    "\n",
    "if QUOTE_STYLE == 'normal':\n",
    "    vols /= 100 * fwdrate\n",
    "\n",
    "capvol = curves.loc[Topt,'fwd vols']\n",
    "\n",
    "strikeATM = strikes[idstrikeATM]\n",
    "volATM = vols.iloc[0,idstrikeATM]"
   ]
  },
  {
   "cell_type": "code",
   "execution_count": 20,
   "id": "27aa01b2",
   "metadata": {
    "scrolled": true
   },
   "outputs": [
    {
     "data": {
      "text/html": [
       "<style type=\"text/css\">\n",
       "</style>\n",
       "<table id=\"T_d1a79\">\n",
       "  <thead>\n",
       "    <tr>\n",
       "      <th class=\"blank level0\" >&nbsp;</th>\n",
       "      <th id=\"T_d1a79_level0_col0\" class=\"col_heading level0 col0\" >-200</th>\n",
       "      <th id=\"T_d1a79_level0_col1\" class=\"col_heading level0 col1\" >-100</th>\n",
       "      <th id=\"T_d1a79_level0_col2\" class=\"col_heading level0 col2\" >-50</th>\n",
       "      <th id=\"T_d1a79_level0_col3\" class=\"col_heading level0 col3\" >-25</th>\n",
       "      <th id=\"T_d1a79_level0_col4\" class=\"col_heading level0 col4\" >0</th>\n",
       "      <th id=\"T_d1a79_level0_col5\" class=\"col_heading level0 col5\" >25</th>\n",
       "      <th id=\"T_d1a79_level0_col6\" class=\"col_heading level0 col6\" >50</th>\n",
       "      <th id=\"T_d1a79_level0_col7\" class=\"col_heading level0 col7\" >100</th>\n",
       "      <th id=\"T_d1a79_level0_col8\" class=\"col_heading level0 col8\" >200</th>\n",
       "    </tr>\n",
       "  </thead>\n",
       "  <tbody>\n",
       "    <tr>\n",
       "      <th id=\"T_d1a79_level0_row0\" class=\"row_heading level0 row0\" >strike</th>\n",
       "      <td id=\"T_d1a79_row0_col0\" class=\"data row0 col0\" >0.0150</td>\n",
       "      <td id=\"T_d1a79_row0_col1\" class=\"data row0 col1\" >0.0250</td>\n",
       "      <td id=\"T_d1a79_row0_col2\" class=\"data row0 col2\" >0.0300</td>\n",
       "      <td id=\"T_d1a79_row0_col3\" class=\"data row0 col3\" >0.0325</td>\n",
       "      <td id=\"T_d1a79_row0_col4\" class=\"data row0 col4\" >0.0350</td>\n",
       "      <td id=\"T_d1a79_row0_col5\" class=\"data row0 col5\" >0.0375</td>\n",
       "      <td id=\"T_d1a79_row0_col6\" class=\"data row0 col6\" >0.0400</td>\n",
       "      <td id=\"T_d1a79_row0_col7\" class=\"data row0 col7\" >0.0450</td>\n",
       "      <td id=\"T_d1a79_row0_col8\" class=\"data row0 col8\" >0.0550</td>\n",
       "    </tr>\n",
       "    <tr>\n",
       "      <th id=\"T_d1a79_level0_row1\" class=\"row_heading level0 row1\" >implied vol</th>\n",
       "      <td id=\"T_d1a79_row1_col0\" class=\"data row1 col0\" >0.5189</td>\n",
       "      <td id=\"T_d1a79_row1_col1\" class=\"data row1 col1\" >0.3753</td>\n",
       "      <td id=\"T_d1a79_row1_col2\" class=\"data row1 col2\" >0.3324</td>\n",
       "      <td id=\"T_d1a79_row1_col3\" class=\"data row1 col3\" >0.3165</td>\n",
       "      <td id=\"T_d1a79_row1_col4\" class=\"data row1 col4\" >0.3041</td>\n",
       "      <td id=\"T_d1a79_row1_col5\" class=\"data row1 col5\" >0.2948</td>\n",
       "      <td id=\"T_d1a79_row1_col6\" class=\"data row1 col6\" >0.2884</td>\n",
       "      <td id=\"T_d1a79_row1_col7\" class=\"data row1 col7\" >0.2825</td>\n",
       "      <td id=\"T_d1a79_row1_col8\" class=\"data row1 col8\" >0.2864</td>\n",
       "    </tr>\n",
       "  </tbody>\n",
       "</table>\n"
      ],
      "text/plain": [
       "<pandas.io.formats.style.Styler at 0x12dc1e7b0>"
      ]
     },
     "execution_count": 20,
     "metadata": {},
     "output_type": "execute_result"
    }
   ],
   "source": [
    "period_fwd = curves.index.get_loc(Topt)\n",
    "period_swap = curves.index.get_loc(Tswap)+1\n",
    "step = round(freqcurve/freqswap)\n",
    "\n",
    "discount = curves['discounts'].iloc[period_fwd+step : period_swap : step].sum()/freqswap\n",
    "blacks_quotes = vols.copy()\n",
    "blacks_quotes.loc['strike'] = strikes\n",
    "blacks_quotes = blacks_quotes.loc[['strike','implied vol']]\n",
    "\n",
    "blacks_quotes.style.format('{:.4f}')"
   ]
  },
  {
   "cell_type": "markdown",
   "id": "c0c81493",
   "metadata": {},
   "source": [
    "#### Limit SABR fit to quotes within +/- 200bps"
   ]
  },
  {
   "cell_type": "code",
   "execution_count": 21,
   "id": "af1e983d",
   "metadata": {},
   "outputs": [],
   "source": [
    "#vols = vols.loc[['implied vol'],-200:200]\n",
    "#strikes = strikes[1:-1]"
   ]
  },
  {
   "cell_type": "code",
   "execution_count": 22,
   "id": "4b9f52e5",
   "metadata": {},
   "outputs": [],
   "source": [
    "def obj_fun(xargs):\n",
    "    nu = xargs[0]\n",
    "    rho = xargs[1]\n",
    "    alpha = xargs[2]\n",
    "    \n",
    "    ivolSABR = np.zeros(len(strikes))\n",
    "    \n",
    "    for i,strike in enumerate(strikes):\n",
    "         ivolSABR[i] = sabr(BETA,nu,rho,alpha,F,strike,Topt)\n",
    "    \n",
    "    error = ((ivolSABR - vols.values)**2).sum()\n",
    "    \n",
    "    return error\n",
    "\n",
    "\n",
    "def obj_fun_slim(xargs):\n",
    "    nu = xargs[0]\n",
    "    rho = xargs[1]\n",
    "    ivolSABR = np.zeros(len(strikes))\n",
    "    \n",
    "    for i,strike in enumerate(strikes):\n",
    "         ivolSABR[i] = sabr_slim(BETA,nu,rho,F,strike,Topt,volATM)\n",
    "    \n",
    "    error = ((ivolSABR - vols.values)**2).sum()\n",
    "    \n",
    "    return error"
   ]
  },
  {
   "cell_type": "code",
   "execution_count": 23,
   "id": "a76e4d83",
   "metadata": {},
   "outputs": [
    {
     "name": "stderr",
     "output_type": "stream",
     "text": [
      "/Users/markhendricks/Projects/finm-fiderivs-2025/build_data/../cmds/volskew.py:77: RuntimeWarning: invalid value encountered in scalar divide\n",
      "  sigmaB = (NUM/DEN) * (z/chi(z,rho))\n",
      "/Users/markhendricks/Projects/finm-fiderivs-2025/build_data/../cmds/volskew.py:77: RuntimeWarning: invalid value encountered in divide\n",
      "  sigmaB = (NUM/DEN) * (z/chi(z,rho))\n"
     ]
    }
   ],
   "source": [
    "if not doSLIM:\n",
    "    x0 = np.array([.6,0,.1])\n",
    "    fun = obj_fun\n",
    "else:\n",
    "    fun = obj_fun_slim\n",
    "    x0 = np.array([.6,0,.1])\n",
    "\n",
    "optim = minimize(fun,x0)\n",
    "xstar = optim.x\n",
    "nustar = xstar[0]\n",
    "rhostar = xstar[1]\n",
    "\n",
    "if doSLIM:\n",
    "    alphastar = solve_alpha(BETA,nustar,rhostar,Topt,volATM,F)\n",
    "    ivolSABR = sabr_slim(BETA,nustar,rhostar,F,strikes,Topt,volATM)\n",
    "else:\n",
    "    alphastar = xstar[2]\n",
    "    ivolSABR = sabr(BETA,nustar,rhostar,alphastar,F,strikes,Topt)\n",
    "    \n",
    "error = optim.fun"
   ]
  },
  {
   "cell_type": "code",
   "execution_count": 24,
   "id": "092578d6",
   "metadata": {},
   "outputs": [],
   "source": [
    "sabrparams = pd.DataFrame([BETA,alphastar,nustar,rhostar],index=['beta','alpha','nu','rho'],columns=['estimate']).style.format('{:.4f}')\n",
    "sabrparams.index.name = 'parameter'"
   ]
  },
  {
   "cell_type": "markdown",
   "id": "9fd56fc4",
   "metadata": {},
   "source": [
    "### Save Data"
   ]
  },
  {
   "cell_type": "code",
   "execution_count": 25,
   "id": "a5984a43",
   "metadata": {},
   "outputs": [],
   "source": [
    "if SAVEDATA:    \n",
    "    with pd.ExcelWriter(FILEOUT) as writer:  \n",
    "        curves.to_excel(writer, sheet_name= f'rate curves', index=True)\n",
    "        ratetree.to_excel(writer, sheet_name= f'rate tree', index=True)\n",
    "        voldata.to_excel(writer, sheet_name= 'bloomberg vcub', index=False)\n",
    "        sabrparams.to_excel(writer, sheet_name='sabr params', index=True)"
   ]
  }
 ],
 "metadata": {
  "hide_input": false,
  "kernelspec": {
   "display_name": "Python 3 (ipykernel)",
   "language": "python",
   "name": "python3"
  },
  "language_info": {
   "codemirror_mode": {
    "name": "ipython",
    "version": 3
   },
   "file_extension": ".py",
   "mimetype": "text/x-python",
   "name": "python",
   "nbconvert_exporter": "python",
   "pygments_lexer": "ipython3",
   "version": "3.13.1"
  }
 },
 "nbformat": 4,
 "nbformat_minor": 5
}
