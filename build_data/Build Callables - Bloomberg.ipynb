{
 "cells": [
  {
   "cell_type": "code",
   "execution_count": 1,
   "metadata": {},
   "outputs": [],
   "source": [
    "import pandas as pd\n",
    "from xbbg import blp\n",
    "from datetime import datetime"
   ]
  },
  {
   "cell_type": "markdown",
   "metadata": {},
   "source": [
    "### Tickers\n",
    "\n",
    "Choose callable bond.\n",
    "* For European exercise, consider banks\n",
    "* Freddie Mac has Bermudan exercise, but some have first call date years in future, which makes approximately European.\n",
    "\n",
    "Find a similar bond with maturity equal to first call date.\n",
    "* Find second Freddie that is far out of the money, such that callable aspect has little value."
   ]
  },
  {
   "cell_type": "code",
   "execution_count": 2,
   "metadata": {},
   "outputs": [],
   "source": [
    "tickers = [    \n",
    "    'FHLMC 4.41 01/28/30 Govt',\n",
    "    'FHLMC 0.97 01/28/28 Govt',\n",
    "    'FHLMC 1.25 01/29/30 Govt',\n",
    "\n",
    "    # 'FHLMC 4.55 02/11/28 Govt',\n",
    "    # 'FNMA 5 01/28/30 Govt',\n",
    "]\n",
    "\n",
    "start_date = '2025-01-27'\n",
    "end_date = '2025-03-09'"
   ]
  },
  {
   "cell_type": "code",
   "execution_count": 3,
   "metadata": {},
   "outputs": [],
   "source": [
    "FLDS_PROPERTIES = [\n",
    "    'SECURITY_DES',\n",
    "    'ID_CUSIP',\n",
    "    'ISSUER',\n",
    "    'MTY_TYP',\n",
    "    'ISSUER_INDUSTRY',\n",
    "    'AMT_ISSUED',\n",
    "    'CPN',\n",
    "    'CPN_FREQ',    \n",
    "    'LAST_UPDATE_DT',\n",
    "    'ISSUE_DT',\n",
    "    'MATURITY',\n",
    "    'FIRST_CALL_DT_ISSUANCE',\n",
    "    'NXT_CALL_DT',\n",
    "    'NXT_CALL_PX',\n",
    "]\n",
    "\n",
    "df_props = blp.bdp(tickers, flds=FLDS_PROPERTIES)\n",
    "df_props['cpn'] /= 100"
   ]
  },
  {
   "cell_type": "code",
   "execution_count": 4,
   "metadata": {},
   "outputs": [],
   "source": [
    "df_props = df_props.rename(columns=\n",
    "                {'security_des':'Security',\n",
    "                 'id_cusip':'CUSIP',\n",
    "                 'amt_issued':'Amount Issued',\n",
    "                 'issue_dt':'Date Issued',\n",
    "                 'maturity':'Date Matures',\n",
    "                 'nxt_call_dt':'Date Next Call',\n",
    "                 'first_call_dt_issuance':'Date of First Possible Call',\n",
    "                 'last_update_dt':'Date Quoted',\n",
    "                 'issuer_industry':'Issuer Industry',\n",
    "                 'issuer':'Issuer',\n",
    "                 'cpn':'Cpn Rate',\n",
    "                 'cpn_freq':'Cpn Freq',\n",
    "                 'nxt_call_px':'Strike',\n",
    "                 'mty_typ':'Maturity Type',                \n",
    "                 }).set_index('Security').T\n",
    "\n",
    "df_props.index.name = 'info'"
   ]
  },
  {
   "cell_type": "code",
   "execution_count": 5,
   "metadata": {},
   "outputs": [
    {
     "data": {
      "text/html": [
       "<style type=\"text/css\">\n",
       "</style>\n",
       "<table id=\"T_0b1d7\">\n",
       "  <thead>\n",
       "    <tr>\n",
       "      <th class=\"index_name level0\" >Security</th>\n",
       "      <th id=\"T_0b1d7_level0_col0\" class=\"col_heading level0 col0\" >FHLMC 0.97 01/28/28</th>\n",
       "      <th id=\"T_0b1d7_level0_col1\" class=\"col_heading level0 col1\" >FHLMC 1 1/4 01/29/30</th>\n",
       "      <th id=\"T_0b1d7_level0_col2\" class=\"col_heading level0 col2\" >FHLMC 4.41 01/28/30</th>\n",
       "    </tr>\n",
       "    <tr>\n",
       "      <th class=\"index_name level0\" >info</th>\n",
       "      <th class=\"blank col0\" >&nbsp;</th>\n",
       "      <th class=\"blank col1\" >&nbsp;</th>\n",
       "      <th class=\"blank col2\" >&nbsp;</th>\n",
       "    </tr>\n",
       "  </thead>\n",
       "  <tbody>\n",
       "    <tr>\n",
       "      <th id=\"T_0b1d7_level0_row0\" class=\"row_heading level0 row0\" >CUSIP</th>\n",
       "      <td id=\"T_0b1d7_row0_col0\" class=\"data row0 col0\" >3134GW5F9</td>\n",
       "      <td id=\"T_0b1d7_row0_col1\" class=\"data row0 col1\" >3134GWGK6</td>\n",
       "      <td id=\"T_0b1d7_row0_col2\" class=\"data row0 col2\" >3134HA4V2</td>\n",
       "    </tr>\n",
       "    <tr>\n",
       "      <th id=\"T_0b1d7_level0_row1\" class=\"row_heading level0 row1\" >Issuer</th>\n",
       "      <td id=\"T_0b1d7_row1_col0\" class=\"data row1 col0\" >FREDDIE MAC</td>\n",
       "      <td id=\"T_0b1d7_row1_col1\" class=\"data row1 col1\" >FREDDIE MAC</td>\n",
       "      <td id=\"T_0b1d7_row1_col2\" class=\"data row1 col2\" >FREDDIE MAC</td>\n",
       "    </tr>\n",
       "    <tr>\n",
       "      <th id=\"T_0b1d7_level0_row2\" class=\"row_heading level0 row2\" >Maturity Type</th>\n",
       "      <td id=\"T_0b1d7_row2_col0\" class=\"data row2 col0\" >CALLABLE</td>\n",
       "      <td id=\"T_0b1d7_row2_col1\" class=\"data row2 col1\" >CALLABLE</td>\n",
       "      <td id=\"T_0b1d7_row2_col2\" class=\"data row2 col2\" >CALLABLE</td>\n",
       "    </tr>\n",
       "    <tr>\n",
       "      <th id=\"T_0b1d7_level0_row3\" class=\"row_heading level0 row3\" >Issuer Industry</th>\n",
       "      <td id=\"T_0b1d7_row3_col0\" class=\"data row3 col0\" >GOVT AGENCY</td>\n",
       "      <td id=\"T_0b1d7_row3_col1\" class=\"data row3 col1\" >GOVT AGENCY</td>\n",
       "      <td id=\"T_0b1d7_row3_col2\" class=\"data row3 col2\" >GOVT AGENCY</td>\n",
       "    </tr>\n",
       "    <tr>\n",
       "      <th id=\"T_0b1d7_level0_row4\" class=\"row_heading level0 row4\" >Amount Issued</th>\n",
       "      <td id=\"T_0b1d7_row4_col0\" class=\"data row4 col0\" >30,000,000</td>\n",
       "      <td id=\"T_0b1d7_row4_col1\" class=\"data row4 col1\" >25,000,000</td>\n",
       "      <td id=\"T_0b1d7_row4_col2\" class=\"data row4 col2\" >10,000,000</td>\n",
       "    </tr>\n",
       "    <tr>\n",
       "      <th id=\"T_0b1d7_level0_row5\" class=\"row_heading level0 row5\" >Cpn Rate</th>\n",
       "      <td id=\"T_0b1d7_row5_col0\" class=\"data row5 col0\" >0.97%</td>\n",
       "      <td id=\"T_0b1d7_row5_col1\" class=\"data row5 col1\" >1.25%</td>\n",
       "      <td id=\"T_0b1d7_row5_col2\" class=\"data row5 col2\" >4.41%</td>\n",
       "    </tr>\n",
       "    <tr>\n",
       "      <th id=\"T_0b1d7_level0_row6\" class=\"row_heading level0 row6\" >Cpn Freq</th>\n",
       "      <td id=\"T_0b1d7_row6_col0\" class=\"data row6 col0\" >2</td>\n",
       "      <td id=\"T_0b1d7_row6_col1\" class=\"data row6 col1\" >2</td>\n",
       "      <td id=\"T_0b1d7_row6_col2\" class=\"data row6 col2\" >2</td>\n",
       "    </tr>\n",
       "    <tr>\n",
       "      <th id=\"T_0b1d7_level0_row7\" class=\"row_heading level0 row7\" >Date Quoted</th>\n",
       "      <td id=\"T_0b1d7_row7_col0\" class=\"data row7 col0\" >2025-03-07</td>\n",
       "      <td id=\"T_0b1d7_row7_col1\" class=\"data row7 col1\" >2025-03-07</td>\n",
       "      <td id=\"T_0b1d7_row7_col2\" class=\"data row7 col2\" >2025-03-07</td>\n",
       "    </tr>\n",
       "    <tr>\n",
       "      <th id=\"T_0b1d7_level0_row8\" class=\"row_heading level0 row8\" >Date Issued</th>\n",
       "      <td id=\"T_0b1d7_row8_col0\" class=\"data row8 col0\" >2020-10-28</td>\n",
       "      <td id=\"T_0b1d7_row8_col1\" class=\"data row8 col1\" >2020-07-29</td>\n",
       "      <td id=\"T_0b1d7_row8_col2\" class=\"data row8 col2\" >2025-01-28</td>\n",
       "    </tr>\n",
       "    <tr>\n",
       "      <th id=\"T_0b1d7_level0_row9\" class=\"row_heading level0 row9\" >Date Matures</th>\n",
       "      <td id=\"T_0b1d7_row9_col0\" class=\"data row9 col0\" >2028-01-28</td>\n",
       "      <td id=\"T_0b1d7_row9_col1\" class=\"data row9 col1\" >2030-01-29</td>\n",
       "      <td id=\"T_0b1d7_row9_col2\" class=\"data row9 col2\" >2030-01-28</td>\n",
       "    </tr>\n",
       "    <tr>\n",
       "      <th id=\"T_0b1d7_level0_row10\" class=\"row_heading level0 row10\" >Date of First Possible Call</th>\n",
       "      <td id=\"T_0b1d7_row10_col0\" class=\"data row10 col0\" >2021-01-28</td>\n",
       "      <td id=\"T_0b1d7_row10_col1\" class=\"data row10 col1\" >2021-01-29</td>\n",
       "      <td id=\"T_0b1d7_row10_col2\" class=\"data row10 col2\" >2028-01-28</td>\n",
       "    </tr>\n",
       "    <tr>\n",
       "      <th id=\"T_0b1d7_level0_row11\" class=\"row_heading level0 row11\" >Date Next Call</th>\n",
       "      <td id=\"T_0b1d7_row11_col0\" class=\"data row11 col0\" >2025-04-28</td>\n",
       "      <td id=\"T_0b1d7_row11_col1\" class=\"data row11 col1\" >2025-04-29</td>\n",
       "      <td id=\"T_0b1d7_row11_col2\" class=\"data row11 col2\" >2028-01-28</td>\n",
       "    </tr>\n",
       "    <tr>\n",
       "      <th id=\"T_0b1d7_level0_row12\" class=\"row_heading level0 row12\" >Strike</th>\n",
       "      <td id=\"T_0b1d7_row12_col0\" class=\"data row12 col0\" >100.000000</td>\n",
       "      <td id=\"T_0b1d7_row12_col1\" class=\"data row12 col1\" >100.000000</td>\n",
       "      <td id=\"T_0b1d7_row12_col2\" class=\"data row12 col2\" >100.000000</td>\n",
       "    </tr>\n",
       "  </tbody>\n",
       "</table>\n"
      ],
      "text/plain": [
       "<pandas.io.formats.style.Styler at 0x115731550>"
      ]
     },
     "execution_count": 5,
     "metadata": {},
     "output_type": "execute_result"
    }
   ],
   "source": [
    "df_props.style.format('{:.2%}',subset=pd.IndexSlice[[\"Cpn Rate\"], :]).format('{:,.0f}',subset=pd.IndexSlice[[\"Amount Issued\"], :])"
   ]
  },
  {
   "cell_type": "code",
   "execution_count": 6,
   "metadata": {},
   "outputs": [],
   "source": [
    "FLDS_CALCS = [\n",
    "    'SECURITY_DES',\n",
    "    'LAST_UPDATE_DT',\n",
    "    'MTY_YEARS_TDY',\n",
    "    'PX_CLEAN_MID',\n",
    "    'PX_DIRTY_MID',\n",
    "    'INT_ACC',\n",
    "    'YLD_YTC_MID',\n",
    "    'YLD_YTM_MID',\n",
    "    'DUR_MID',\n",
    "    'DUR_ADJ_MID',\n",
    "    'CNVX_MID',\n",
    "    'YAS_YLD_SPREAD',\n",
    "    'YAS_OAS_SPRD',\n",
    "    'YAS_OAS_VOL',\n",
    "]\n",
    "\n",
    "df_calcs = blp.bdp(tickers, flds=FLDS_CALCS, OAS_CURVE_ID='IRS')\n",
    "\n",
    "df_calcs = df_calcs.rename(columns={\n",
    "    'security_des':'Security',\n",
    "    'last_update_dt':'Date Quoted',\n",
    "    'yas_yld_spread':'Treasury YLD Spread',\n",
    "    'yas_oas_sprd':'OAS Spread',\n",
    "    'int_acc':'Accrued Interest',\n",
    "    'px_clean_mid':'Clean Price',\n",
    "    'px_dirty_mid':'Dirty Price',\n",
    "    'cnvx_mid':'Convexity',\n",
    "    'dur_mid':'Duration',\n",
    "    'dur_adj_mid':'Modified Duration',\n",
    "    'yld_ytc_mid':'YTM Call',\n",
    "    'yld_ytm_mid':'YTM Maturity',\n",
    "    'yas_oas_vol':'Implied Vol',\n",
    "    'mty_years_tdy':'TTM'\n",
    "    }).set_index('Security').T\n",
    "\n",
    "df_calcs.index.name = 'quotes'"
   ]
  },
  {
   "cell_type": "code",
   "execution_count": 7,
   "metadata": {},
   "outputs": [
    {
     "data": {
      "text/html": [
       "<style type=\"text/css\">\n",
       "</style>\n",
       "<table id=\"T_c0c0b\">\n",
       "  <thead>\n",
       "    <tr>\n",
       "      <th class=\"index_name level0\" >Security</th>\n",
       "      <th id=\"T_c0c0b_level0_col0\" class=\"col_heading level0 col0\" >FHLMC 0.97 01/28/28</th>\n",
       "      <th id=\"T_c0c0b_level0_col1\" class=\"col_heading level0 col1\" >FHLMC 1 1/4 01/29/30</th>\n",
       "      <th id=\"T_c0c0b_level0_col2\" class=\"col_heading level0 col2\" >FHLMC 4.41 01/28/30</th>\n",
       "    </tr>\n",
       "    <tr>\n",
       "      <th class=\"index_name level0\" >quotes</th>\n",
       "      <th class=\"blank col0\" >&nbsp;</th>\n",
       "      <th class=\"blank col1\" >&nbsp;</th>\n",
       "      <th class=\"blank col2\" >&nbsp;</th>\n",
       "    </tr>\n",
       "  </thead>\n",
       "  <tbody>\n",
       "    <tr>\n",
       "      <th id=\"T_c0c0b_level0_row0\" class=\"row_heading level0 row0\" >Date Quoted</th>\n",
       "      <td id=\"T_c0c0b_row0_col0\" class=\"data row0 col0\" >2025-03-07</td>\n",
       "      <td id=\"T_c0c0b_row0_col1\" class=\"data row0 col1\" >2025-03-07</td>\n",
       "      <td id=\"T_c0c0b_row0_col2\" class=\"data row0 col2\" >2025-03-07</td>\n",
       "    </tr>\n",
       "    <tr>\n",
       "      <th id=\"T_c0c0b_level0_row1\" class=\"row_heading level0 row1\" >TTM</th>\n",
       "      <td id=\"T_c0c0b_row1_col0\" class=\"data row1 col0\" >2.89</td>\n",
       "      <td id=\"T_c0c0b_row1_col1\" class=\"data row1 col1\" >4.89</td>\n",
       "      <td id=\"T_c0c0b_row1_col2\" class=\"data row1 col2\" >4.89</td>\n",
       "    </tr>\n",
       "    <tr>\n",
       "      <th id=\"T_c0c0b_level0_row2\" class=\"row_heading level0 row2\" >Clean Price</th>\n",
       "      <td id=\"T_c0c0b_row2_col0\" class=\"data row2 col0\" >91.15</td>\n",
       "      <td id=\"T_c0c0b_row2_col1\" class=\"data row2 col1\" >86.32</td>\n",
       "      <td id=\"T_c0c0b_row2_col2\" class=\"data row2 col2\" >100.78</td>\n",
       "    </tr>\n",
       "    <tr>\n",
       "      <th id=\"T_c0c0b_level0_row3\" class=\"row_heading level0 row3\" >Dirty Price</th>\n",
       "      <td id=\"T_c0c0b_row3_col0\" class=\"data row3 col0\" >91.26</td>\n",
       "      <td id=\"T_c0c0b_row3_col1\" class=\"data row3 col1\" >86.46</td>\n",
       "      <td id=\"T_c0c0b_row3_col2\" class=\"data row3 col2\" >101.30</td>\n",
       "    </tr>\n",
       "    <tr>\n",
       "      <th id=\"T_c0c0b_level0_row4\" class=\"row_heading level0 row4\" >Accrued Interest</th>\n",
       "      <td id=\"T_c0c0b_row4_col0\" class=\"data row4 col0\" >0.11</td>\n",
       "      <td id=\"T_c0c0b_row4_col1\" class=\"data row4 col1\" >0.14</td>\n",
       "      <td id=\"T_c0c0b_row4_col2\" class=\"data row4 col2\" >0.51</td>\n",
       "    </tr>\n",
       "    <tr>\n",
       "      <th id=\"T_c0c0b_level0_row5\" class=\"row_heading level0 row5\" >YTM Call</th>\n",
       "      <td id=\"T_c0c0b_row5_col0\" class=\"data row5 col0\" >73.78</td>\n",
       "      <td id=\"T_c0c0b_row5_col1\" class=\"data row5 col1\" >117.72</td>\n",
       "      <td id=\"T_c0c0b_row5_col2\" class=\"data row5 col2\" >4.12</td>\n",
       "    </tr>\n",
       "    <tr>\n",
       "      <th id=\"T_c0c0b_level0_row6\" class=\"row_heading level0 row6\" >YTM Maturity</th>\n",
       "      <td id=\"T_c0c0b_row6_col0\" class=\"data row6 col0\" >4.26</td>\n",
       "      <td id=\"T_c0c0b_row6_col1\" class=\"data row6 col1\" >4.39</td>\n",
       "      <td id=\"T_c0c0b_row6_col2\" class=\"data row6 col2\" >4.23</td>\n",
       "    </tr>\n",
       "    <tr>\n",
       "      <th id=\"T_c0c0b_level0_row7\" class=\"row_heading level0 row7\" >Duration</th>\n",
       "      <td id=\"T_c0c0b_row7_col0\" class=\"data row7 col0\" >2.85</td>\n",
       "      <td id=\"T_c0c0b_row7_col1\" class=\"data row7 col1\" >4.73</td>\n",
       "      <td id=\"T_c0c0b_row7_col2\" class=\"data row7 col2\" >2.73</td>\n",
       "    </tr>\n",
       "    <tr>\n",
       "      <th id=\"T_c0c0b_level0_row8\" class=\"row_heading level0 row8\" >Modified Duration</th>\n",
       "      <td id=\"T_c0c0b_row8_col0\" class=\"data row8 col0\" >2.79</td>\n",
       "      <td id=\"T_c0c0b_row8_col1\" class=\"data row8 col1\" >4.63</td>\n",
       "      <td id=\"T_c0c0b_row8_col2\" class=\"data row8 col2\" >2.67</td>\n",
       "    </tr>\n",
       "    <tr>\n",
       "      <th id=\"T_c0c0b_level0_row9\" class=\"row_heading level0 row9\" >Convexity</th>\n",
       "      <td id=\"T_c0c0b_row9_col0\" class=\"data row9 col0\" >0.09</td>\n",
       "      <td id=\"T_c0c0b_row9_col1\" class=\"data row9 col1\" >0.24</td>\n",
       "      <td id=\"T_c0c0b_row9_col2\" class=\"data row9 col2\" >0.09</td>\n",
       "    </tr>\n",
       "    <tr>\n",
       "      <th id=\"T_c0c0b_level0_row10\" class=\"row_heading level0 row10\" >Treasury YLD Spread</th>\n",
       "      <td id=\"T_c0c0b_row10_col0\" class=\"data row10 col0\" >28.07</td>\n",
       "      <td id=\"T_c0c0b_row10_col1\" class=\"data row10 col1\" >33.87</td>\n",
       "      <td id=\"T_c0c0b_row10_col2\" class=\"data row10 col2\" >13.41</td>\n",
       "    </tr>\n",
       "    <tr>\n",
       "      <th id=\"T_c0c0b_level0_row11\" class=\"row_heading level0 row11\" >OAS Spread</th>\n",
       "      <td id=\"T_c0c0b_row11_col0\" class=\"data row11 col0\" >27.86</td>\n",
       "      <td id=\"T_c0c0b_row11_col1\" class=\"data row11 col1\" >33.61</td>\n",
       "      <td id=\"T_c0c0b_row11_col2\" class=\"data row11 col2\" >-21.53</td>\n",
       "    </tr>\n",
       "    <tr>\n",
       "      <th id=\"T_c0c0b_level0_row12\" class=\"row_heading level0 row12\" >Implied Vol</th>\n",
       "      <td id=\"T_c0c0b_row12_col0\" class=\"data row12 col0\" >26.93</td>\n",
       "      <td id=\"T_c0c0b_row12_col1\" class=\"data row12 col1\" >27.81</td>\n",
       "      <td id=\"T_c0c0b_row12_col2\" class=\"data row12 col2\" >25.91</td>\n",
       "    </tr>\n",
       "  </tbody>\n",
       "</table>\n"
      ],
      "text/plain": [
       "<pandas.io.formats.style.Styler at 0x11570aad0>"
      ]
     },
     "execution_count": 7,
     "metadata": {},
     "output_type": "execute_result"
    }
   ],
   "source": [
    "df_calcs.style.format('{:.2f}', subset=pd.IndexSlice[df_calcs.index[1:], :])"
   ]
  },
  {
   "cell_type": "code",
   "execution_count": 8,
   "metadata": {},
   "outputs": [],
   "source": [
    "FLDS_HIST = [\n",
    "    'PX_CLEAN_MID',\n",
    "    'PX_DIRTY_MID',\n",
    "    'OAS_SPREAD_MID',\n",
    "]\n",
    "\n",
    "df_hist = blp.bdh(tickers, flds=FLDS_HIST, start_date=start_date, end_date=end_date)\n",
    "\n",
    "df_hist.rename(columns={\n",
    "    'PX_CLEAN_MID':'Clean Price',\n",
    "    'PX_DIRTY_MID':'Dirty Price',\n",
    "},inplace=True)\n"
   ]
  },
  {
   "cell_type": "code",
   "execution_count": 9,
   "metadata": {},
   "outputs": [],
   "source": [
    "clean = df_hist.xs('Clean Price', level=1, axis=1)\n",
    "dirty = df_hist.xs('Dirty Price', level=1, axis=1)\n",
    "clean.index.name = 'date'\n",
    "dirty.index.name = 'date'"
   ]
  },
  {
   "cell_type": "code",
   "execution_count": 10,
   "metadata": {},
   "outputs": [
    {
     "data": {
      "image/png": "[encoded data removed]",
      "text/plain": [
       "<Figure size 640x480 with 1 Axes>"
      ]
     },
     "metadata": {},
     "output_type": "display_data"
    }
   ],
   "source": [
    "col = df_hist.columns.levels[0][0]\n",
    "df_hist[col].plot(title=col);"
   ]
  },
  {
   "cell_type": "code",
   "execution_count": 11,
   "metadata": {},
   "outputs": [],
   "source": [
    "# col = df_hist.columns.levels[0][1]\n",
    "# df_hist[col].plot(title=col);"
   ]
  },
  {
   "cell_type": "markdown",
   "metadata": {},
   "source": [
    "***"
   ]
  },
  {
   "cell_type": "markdown",
   "metadata": {},
   "source": [
    "### Save Data"
   ]
  },
  {
   "cell_type": "code",
   "execution_count": 12,
   "metadata": {},
   "outputs": [],
   "source": [
    "DATE = df_props.loc['Date Quoted'].iloc[0].strftime(\"%Y-%m-%d\")\n",
    "OUTFILE = f'../data/callable_bonds_{DATE}'"
   ]
  },
  {
   "cell_type": "code",
   "execution_count": 13,
   "metadata": {},
   "outputs": [],
   "source": [
    "outfile = f'../data/{OUTFILE}.xlsx'\n",
    "with pd.ExcelWriter(outfile) as writer:  \n",
    "    df_props.to_excel(writer, sheet_name= 'info', index=True, )\n",
    "    df_calcs.to_excel(writer, sheet_name= 'quotes', index=True)\n",
    "    clean.to_excel(writer, sheet_name= 'clean prices', index=True)\n",
    "    dirty.to_excel(writer, sheet_name= 'dirty prices', index=True)"
   ]
  },
  {
   "cell_type": "markdown",
   "metadata": {},
   "source": [
    "***"
   ]
  }
 ],
 "metadata": {
  "kernelspec": {
   "display_name": "venv",
   "language": "python",
   "name": "python3"
  },
  "language_info": {
   "codemirror_mode": {
    "name": "ipython",
    "version": 3
   },
   "file_extension": ".py",
   "mimetype": "text/x-python",
   "name": "python",
   "nbconvert_exporter": "python",
   "pygments_lexer": "ipython3",
   "version": "3.13.1"
  }
 },
 "nbformat": 4,
 "nbformat_minor": 2
}
